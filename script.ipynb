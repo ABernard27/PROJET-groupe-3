{
  "nbformat": 4,
  "nbformat_minor": 0,
  "metadata": {
    "colab": {
      "name": "script.ipynb",
      "provenance": [],
      "collapsed_sections": []
    },
    "kernelspec": {
      "name": "python3",
      "display_name": "Python 3"
    },
    "language_info": {
      "name": "python"
    }
  },
  "cells": [
    {
      "cell_type": "code",
      "source": [
        "import Coberny as cyb\n",
        "import numpy as np\n",
        "import pandas as pd\n",
        "from download import download"
      ],
      "metadata": {
        "id": "ABvR1cb13gz7"
      },
      "execution_count": null,
      "outputs": []
    },
    {
      "cell_type": "markdown",
      "source": [
        "# Téléchargement des dataframes : "
      ],
      "metadata": {
        "id": "Um0MpsBD3jSz"
      }
    },
    {
      "cell_type": "code",
      "source": [
        "url = 'https://raw.githubusercontent.com/ABernard27/PROJET-groupe-3/master/Document/Distance.csv'\n",
        "path_target = \"./Distance.csv\"\n",
        "download(url, path_target, replace = True)\n",
        "Distance = pd.read_csv('Distance.csv', sep = ',')\n",
        "\n",
        "url = 'https://raw.githubusercontent.com/ABernard27/PROJET-groupe-3/master/Document/Prix.csv'\n",
        "path_target = \"./Prix.csv\"\n",
        "download(url, path_target, replace = True)\n",
        "Prix = pd.read_csv('Prix.csv', sep = ',')\n",
        "Prix.fillna(0, inplace=True)\n",
        "Prix.index=['St-Jean-de-Vedas','Sete','Agde Pezenas','Peage de Beziers-Cabrials','Beziers ouest','Narbonne est ',\n",
        "'Narbonne sud','Sigean ','Leucate','Perpignan nord','Perpignan sud','Le Boulou  (peage sys ferme)','Peage du Perthus','Lezignan',\n",
        "'Carcassonne est','Carcassonne ouest','Bram','Castelnaudary','Villefranche-de-Lauragais','Nailloux','Mazeres-Saverdun','Peage de pamiers','Montgiscard','Peage de Toulouse sud/ouest','Peage de Toulouse sud/est']\n",
        "Prix.drop('Unnamed: 0',1,inplace=True)\n",
        "\n",
        "url = 'https://raw.githubusercontent.com/ABernard27/PROJET-groupe-3/master/Document/data.csv'\n",
        "path_target = \"./data.csv\"\n",
        "download(url, path_target, replace = True)\n",
        "data = pd.read_csv('data.csv', sep = ',')\n",
        "\n",
        "url = 'https://raw.githubusercontent.com/ABernard27/PROJET-groupe-3/master/Document/Prix_map.csv'\n",
        "path_target = \"./Prix_map.csv\"\n",
        "download(url, path_target, replace = True)\n",
        "Prix_map = pd.read_csv('Prix_map.csv', sep = ',')"
      ],
      "metadata": {
        "id": "OdBZSZt-28fM"
      },
      "execution_count": null,
      "outputs": []
    },
    {
      "cell_type": "markdown",
      "source": [
        "# Affichage de la carte intéractive : "
      ],
      "metadata": {
        "id": "LO_xAZdd3oRX"
      }
    },
    {
      "cell_type": "code",
      "source": [
        "key='5b3ce3597851110001cf6248dfd20bf8793e4e978b4bb0ca383bfd55' # notre propre clé (pour tester facilement)\n",
        "cyb.carte(np.column_stack([data['x'],data['y']]),data[' Nom gare '],key,Prix_map)"
      ],
      "metadata": {
        "id": "LCaS8x-41s0w"
      },
      "execution_count": null,
      "outputs": []
    },
    {
      "cell_type": "markdown",
      "source": [
        "# Affichage de la distribution des prix : "
      ],
      "metadata": {
        "id": "w94muAUg3w2x"
      }
    },
    {
      "cell_type": "code",
      "source": [
        "cyb.distribution(Distance, Prix).Graph()"
      ],
      "metadata": {
        "id": "c14fckie3SFD"
      },
      "execution_count": null,
      "outputs": []
    },
    {
      "cell_type": "markdown",
      "source": [
        "# Lancement de l'interface utilisateur : \n",
        "Lorsque la fenêtre de l'interface utilisateur s'ouvrira, il vous sera demandé de choisir un fichier .csv. Il faut choisir le fichier csv des prix c'est-à-dire le fichier intitulé \"highway_price.csv\" ."
      ],
      "metadata": {
        "id": "0Grmgk1M33Rf"
      }
    },
    {
      "cell_type": "code",
      "source": [
        "app = cyb.UI()\n",
        "app.win.mainloop()"
      ],
      "metadata": {
        "id": "eDn8UE2g3VRQ"
      },
      "execution_count": null,
      "outputs": []
    }
  ]
}